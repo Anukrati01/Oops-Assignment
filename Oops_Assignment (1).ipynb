{
  "nbformat": 4,
  "nbformat_minor": 0,
  "metadata": {
    "colab": {
      "provenance": []
    },
    "kernelspec": {
      "name": "python3",
      "display_name": "Python 3"
    },
    "language_info": {
      "name": "python"
    }
  },
  "cells": [
    {
      "cell_type": "markdown",
      "source": [
        "1. What is Object-Oriented Programming (OOP)?\n",
        "  - Object-oriented programming is a programming paradigm that is based on the concept of \"objects\", which can contain data and code that manipulates that data. In OOP, objects are created from templates called \"classes\", which define the properties and behavior of the objects they create."
      ],
      "metadata": {
        "id": "Me_DT-s2JpL2"
      }
    },
    {
      "cell_type": "markdown",
      "source": [
        "2. What is a class in OOP?\n",
        "   - In object-oriented programming, a class is a template definition of the methods and variables in a particular kind of object. Thus, an object is a specific instance of a class; it contains real values instead of variables. The class is one of the defining ideas of object-oriented programming."
      ],
      "metadata": {
        "id": "tzq67UY9KWYp"
      }
    },
    {
      "cell_type": "markdown",
      "source": [
        "3. What is an object in OOP?\n",
        "  - Object-Oriented Programming, an object is an instance of a class that encapsulates data and functionality including that data. Objects serve as the basic building blocks of OOP applications, embodying both the properties (data) and behaviors (methods) relevant to the software being developed."
      ],
      "metadata": {
        "id": "rayRFaKmKl4Y"
      }
    },
    {
      "cell_type": "markdown",
      "source": [
        "4. What is the difference between abstraction and encapsulation ?\n",
        "   - While abstraction and encapsulation are closely related concepts, they serve different purposes in object-oriented programming.\n",
        "      1. Abstraction focuses on hiding unnecessary details, emphasizing the essential characteristics of an object or system. It provides a high-level view and simplifies complexity.\n",
        "   \n",
        "    2. Encapsulation focuses on bundling data and methods within a class, restricting direct access to the internal state of an object. It ensures data protection and enables controlled access to the object's attributes."
      ],
      "metadata": {
        "id": "PDLC8C86Kthv"
      }
    },
    {
      "cell_type": "markdown",
      "source": [
        "5.What are dunder methods in Python?\n",
        "   - Dunder methods, also known as magic methods, are special methods in Python that start and end with double underscores. They are used to add special functionality to classes and objects."
      ],
      "metadata": {
        "id": "cEG7ehysK7UW"
      }
    },
    {
      "cell_type": "markdown",
      "source": [
        "6. Explain the concept of inheritance in OOP.\n",
        "   - Inheritance in object-oriented programming (OOP) is a fundamental concept that allows programmers to create new classes based on existing classes. This process enables programmers to reuse code, extend functionality, and establish relationships between classes."
      ],
      "metadata": {
        "id": "eAntzITiLDup"
      }
    },
    {
      "cell_type": "markdown",
      "source": [
        "7. What is polymorphism in OOP?\n",
        "  - Polymorphism is one of the core concepts of object-oriented programming (OOP) that describes situations in which something occurs in several different forms. In computer science, polymorphism describes the concept that you can access objects of different types through the same interface. Each type can provide its own independent implementation of this interface."
      ],
      "metadata": {
        "id": "agEWpbOkLQdn"
      }
    },
    {
      "cell_type": "markdown",
      "source": [
        "8. How is encapsulation achieved in Python?\n",
        "  - Encapsulation is achieved by declaring a class's data members and methods as either private or protected. But in Python, we do not have keywords like public, private, and protected, as in the case of Java. Instead, we achieve this by using single and double underscores."
      ],
      "metadata": {
        "id": "-B4HQrh2LhZd"
      }
    },
    {
      "cell_type": "markdown",
      "source": [
        "9. What is a constructor in Python?\n",
        "  - a constructor is a special method that is called automatically when an object is created from a class. Its main role is to initialize the object by setting up its attributes or state.\n",
        "The method __new__ is the constructor that creates a new instance of the class while __init__ is the initializer that sets up the instance’s attributes after creation. These methods work together to manage object creation and initialization."
      ],
      "metadata": {
        "id": "T8XJbhZLLrPo"
      }
    },
    {
      "cell_type": "markdown",
      "source": [
        "10. What are class and static methods in Python?\n",
        "   -\n",
        "Python Class Method :-\n",
        "A Python class method is a method that is defined within a class and that operates on all objects being an instance of the class. This also means that you can call the method directly on the class and the class is the first parameter of the method (often called cls). Class methods are used for operations for the whole class, for changing some class variables, or for making instances of the class using different constructors.\n",
        "  \n",
        "   Python Static Method:-A static method in Python means it is a method that belongs to the class. Static methods are class methods and do not have access to attributes on a class or instance of the class at their own instance or to other instances or class attributes. Unlike variables which are logically grouped inside the class, they work just like any normal functions."
      ],
      "metadata": {
        "id": "DWK7KEz5Ly0c"
      }
    },
    {
      "cell_type": "markdown",
      "source": [
        "11. What is method overloading in Python?\n",
        "  - Method Overloading is a fundamental concept in OOP that enables a class to define multiple methods with the same name but different parameters. In Python, this powerful feature allows developers to create versatile functions capable of handling various data types."
      ],
      "metadata": {
        "id": "_IP-ge26DgZv"
      }
    },
    {
      "cell_type": "markdown",
      "source": [
        "12. What is method overriding in OOP?\n",
        "  - Method overriding, in object-oriented programming, is a language feature that allows a subclass or child class to provide a specific implementation of a method that is already provided by one of its superclasses or parent classes."
      ],
      "metadata": {
        "id": "FeuB8s6iDhu6"
      }
    },
    {
      "cell_type": "markdown",
      "source": [
        "13. What is a property decorator in Python?\n",
        "   - python property decorator is a built-in decorator in Python which is helpful in defining the properties effortlessly without manually calling the inbuilt function property(). Which is used to return the property attributes of a class from the stated getter, setter and deleter as parameters."
      ],
      "metadata": {
        "id": "SoXnXVg2EpeS"
      }
    },
    {
      "cell_type": "markdown",
      "source": [
        "14. Why is polymorphism important in OOP?\n",
        "   - Polymorphism in OOPs is one of the four important principles of object-oriented programming (OOP), which allows objects of different classes, objects, variables and methods to exist in different forms. With the help of polymorphism in oops, it is easy to represent one single form into various forms.\n",
        "There are two main types of polymorphism in object-oriented programming. These are compile-time polymorphism and Run-time polymorphism. Polymorphism allows flexibility and increases efficiency while designing software systems. We can add new classes easily with the help of polymorphism without modifying existing entities."
      ],
      "metadata": {
        "id": "BOYgKdj4EqAj"
      }
    },
    {
      "cell_type": "markdown",
      "source": [
        "15. What is an abstract class in Python?\n",
        "  - An abstract class in Python is a class that can't be instantiated directly, but instead serves as a blueprint for other classes. Abstract classes contain abstract methods, which are methods that are declared but don't have an implementation."
      ],
      "metadata": {
        "id": "dYVG-k0eEqeI"
      }
    },
    {
      "cell_type": "markdown",
      "source": [
        "16. What are the advantages of OOP ?\n",
        "    - 1. We can build the programs from standard working modules that communicate with one another, rather than having to start writing the code from scratch which leads to saving of development time and higher productivity,\n",
        "      2.  OOP language allows to break the program into the bit-sized problems that can be solved easily (one object at a time).\n",
        "     3. The new technology promises greater programmer productivity, better quality of software and lesser maintenance cost.\n",
        "     4. OOP systems can be easily upgraded from small to large systems.\n",
        "     5. It is possible that multiple instances of objects co-exist without any interference,\n",
        "     6. It is very easy to partition the work in a project based on objects.\n",
        "     7. It is possible to map the objects in problem domain to those in the program.\n",
        "     8. The principle of data hiding helps the programmer to build secure programs which cannot be invaded by the code in other parts of the program.\n",
        "     9.By using inheritance, we can eliminate redundant code and extend the use of existing classes.\n",
        "     10.Message passing techniques is used for communication between objects which makes the interface descriptions with external systems much simpler.\n",
        "      11.The data-centered design approach enables us to capture more details of model in an implementable form."
      ],
      "metadata": {
        "id": "Mj0eETEiEq0L"
      }
    },
    {
      "cell_type": "markdown",
      "source": [
        "17. What is the difference between a class variable and an instance variable?\n",
        "   - **Intance variable:-**\n",
        "      1. They are declared without using keyword 'static'.\n",
        "      2. Each object of the class gets its own copy of instance variables.\n",
        "      3. They can be accessed only through an object of the class.\n",
        "      **class variable:-**\n",
        "        1. They are declared using keyword 'static'.\n",
        "        2. All objects of a class share the same copy of class variables.\n",
        "        3. They can be accessed using the class name or object."
      ],
      "metadata": {
        "id": "OclWkQCfEtHj"
      }
    },
    {
      "cell_type": "markdown",
      "source": [
        "18.What is multiple inheritance in Python?\n",
        "   \n",
        "   - \"multiple inheritance\" refers to the ability of a child class to inherit properties and methods from more than one parent class, essentially allowing a class to draw functionality from multiple sources simultaneously; this is achieved by listing all the parent classes within the child class definition when inheriting from them."
      ],
      "metadata": {
        "id": "GXlgBX1LEtVd"
      }
    },
    {
      "cell_type": "markdown",
      "source": [
        "19.Explain the purpose of ‘’__str__’ and ‘__repr__’ ‘ methods in Python.\n",
        "   - the str() and repr() functions are used to obtain string representations of objects. While they may seem similar at first glance, there are some differences in how they behave. Both of the functions can be helpful in debugging or printing useful information about the object.\n",
        "     \n",
        "         "
      ],
      "metadata": {
        "id": "wypGFST1EtjT"
      }
    },
    {
      "cell_type": "markdown",
      "source": [
        " 20.What is the significance of the ‘super()’ function in Python?\n",
        "   \n",
        "   - super() is a built-in function that allows access to methods and properties of a parent or superclass from a child or subclass. This is useful when working with inheritance in object-oriented programming. It enables a subclass to inherit behaviour and attributes from its parent class while also providing the flexibility to override or extend that behaviour in the subclass."
      ],
      "metadata": {
        "id": "BxeBQrJpEttg"
      }
    },
    {
      "cell_type": "markdown",
      "source": [
        "21. What is the significance of the __del__ method in Python?\n",
        "    - The del keyword in Python is primarily used to delete objects in Python. Since everything in Python represents an object in one way or another, The del keyword can also be used to delete a list, slice a list, delete dictionaries, remove key-value pairs from a dictionary, delete variables, etc. It helps free up memory by removing references to the objects.\n",
        "\n",
        "    Syntax:\n",
        "         del object_name"
      ],
      "metadata": {
        "id": "wi_kWzAXEu9H"
      }
    },
    {
      "cell_type": "markdown",
      "source": [
        "22. What is the difference between @staticmethod and @classmethod in Python?\n",
        "      - The difference between the Class method and the static method is:\n",
        "\n",
        "     1. A class method takes cls as the first parameter while a static method needs no specific parameters.\n",
        "  2.A class method can access or modify the class state while a static method can’t access or modify it.\n",
        "    3. In general, static methods know nothing about the class state. They are utility-type methods that take some parameters and work upon those parameters. On the other hand class methods must have class as a parameter.\n",
        "    4. We use @classmethod decorator in python to create a class method and we use @staticmethod decorator to create a static method in python."
      ],
      "metadata": {
        "id": "4VaOBteLHnHk"
      }
    },
    {
      "cell_type": "markdown",
      "source": [
        "23. How does polymorphism work in Python with inheritance?\n",
        "    - polymorphism with inheritance allows child classes to have the same method names as their parent class. The child class inherits the parent class's methods and attributes, but can also modify them. This process is called method overriding.\n",
        "      \n",
        "       For example, you can create a class called Vehicle and make Car, Boat, and Plane child classes of Vehicle. Each child class can have its own implementation of the move method."
      ],
      "metadata": {
        "id": "-C8g0K_cHnhT"
      }
    },
    {
      "cell_type": "markdown",
      "source": [
        "24. What is method chaining in Python OOP?\n",
        "   - Method chaining is a powerful technique in Python programming that allows us to call multiple methods on an object in a single, continuous line of code. This approach makes the code cleaner, more readable, and often easier to maintain.\n",
        "\n"
      ],
      "metadata": {
        "id": "ExmwBATNHnx6"
      }
    },
    {
      "cell_type": "markdown",
      "source": [
        "25. What is the purpose of the __call__ method in Python?\n",
        "   - __call__ in Python. method enables Python programmers to write classes where the instances behave like functions and can be called like a function. When the instance is called as a function; if this method is defined, x(arg1, arg2, ...)."
      ],
      "metadata": {
        "id": "Os1f-iNfHoE_"
      }
    }
  ]
}